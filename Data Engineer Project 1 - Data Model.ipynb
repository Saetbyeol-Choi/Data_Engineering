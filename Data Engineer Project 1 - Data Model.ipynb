{
 "cells": [
  {
   "cell_type": "markdown",
   "id": "9efd91d2",
   "metadata": {},
   "source": [
    "# Creating a Table with PostgreSQL"
   ]
  },
  {
   "cell_type": "code",
   "execution_count": 1,
   "id": "ba4e4701",
   "metadata": {},
   "outputs": [
    {
     "name": "stdout",
     "output_type": "stream",
     "text": [
      "Collecting psycopg2\n",
      "  Downloading psycopg2-2.9.9-cp39-cp39-win_amd64.whl.metadata (4.6 kB)\n",
      "Downloading psycopg2-2.9.9-cp39-cp39-win_amd64.whl (1.2 MB)\n",
      "   ---------------------------------------- 1.2/1.2 MB 9.3 MB/s eta 0:00:00\n",
      "Installing collected packages: psycopg2\n",
      "Successfully installed psycopg2-2.9.9\n"
     ]
    },
    {
     "name": "stderr",
     "output_type": "stream",
     "text": [
      "\n",
      "[notice] A new release of pip is available: 24.0 -> 24.2\n",
      "[notice] To update, run: python.exe -m pip install --upgrade pip\n"
     ]
    }
   ],
   "source": [
    "!pip install psycopg2"
   ]
  },
  {
   "cell_type": "code",
   "execution_count": 4,
   "id": "414d440d",
   "metadata": {},
   "outputs": [],
   "source": [
    "import psycopg2"
   ]
  },
  {
   "cell_type": "markdown",
   "id": "1fbce816",
   "metadata": {},
   "source": [
    "# Create a connection to the database"
   ]
  },
  {
   "cell_type": "code",
   "execution_count": 21,
   "id": "bf837745",
   "metadata": {},
   "outputs": [],
   "source": [
    "try:\n",
    "    conn = psycopg2.connect(\"host=127.0.0.1 dbname=postgres user=postgres password=12345!\")\n",
    "except psycopg2.Error as e:\n",
    "    print(\"Error: Could not make connection to the Postgres database\")\n",
    "    print(e)"
   ]
  },
  {
   "cell_type": "markdown",
   "id": "011481d1",
   "metadata": {},
   "source": [
    "# Use the connectin to get a cursor that can be used to execute queries"
   ]
  },
  {
   "cell_type": "code",
   "execution_count": 22,
   "id": "df5a0296",
   "metadata": {},
   "outputs": [],
   "source": [
    "try:\n",
    "    cur = conn.cursor()\n",
    "except psycopg2.Error as e:\n",
    "    print(\"Error: Could not get cursor to the Dtabase\")\n",
    "    print(e)"
   ]
  },
  {
   "cell_type": "markdown",
   "id": "ec91d891",
   "metadata": {},
   "source": [
    "# Set automatic commit to be true so that each action is committed without having to call conn.commit() after each command."
   ]
  },
  {
   "cell_type": "code",
   "execution_count": 23,
   "id": "2b47cce9",
   "metadata": {},
   "outputs": [],
   "source": [
    "conn.set_session(autocommit=True)"
   ]
  },
  {
   "cell_type": "markdown",
   "id": "33250b71",
   "metadata": {},
   "source": [
    "# Create a database to do the work in"
   ]
  },
  {
   "cell_type": "code",
   "execution_count": null,
   "id": "2c202094",
   "metadata": {},
   "outputs": [],
   "source": [
    "try:\n",
    "    cur.execute(\"create database myfirstdb\") # sql syntax\n",
    "except psycopg2.Error as e:\n",
    "    print(e)"
   ]
  },
  {
   "cell_type": "markdown",
   "id": "f9eadb85",
   "metadata": {},
   "source": [
    "To check if database is created in PostgreSQL, open SQL Shell(psql) and type \"\\l\".</br>\n",
    "-> postgres=# \\l"
   ]
  },
  {
   "cell_type": "markdown",
   "id": "1dd89cd3",
   "metadata": {},
   "source": [
    "# Add the database name in the connect statement. Let's close our connection to the default database, reconnect to the Udacity database, and get a new cursor."
   ]
  },
  {
   "cell_type": "code",
   "execution_count": 31,
   "id": "f22ba717",
   "metadata": {},
   "outputs": [],
   "source": [
    "try:\n",
    "    conn.close()\n",
    "except psycopg2.Error as e:\n",
    "    print(e)\n",
    "    \n",
    "try:\n",
    "    conn = psycopg2.connect(\"host=127.0.0.1 dbname=myfirstdb user=postgres password=12345!\")\n",
    "except psycopg2.Error as e:\n",
    "    print(\"Error: Could not make connection to the Postgres database\")\n",
    "    print(e)\n",
    "\n",
    "try:\n",
    "    cur = conn.cursor()\n",
    "except psycopg2.Error as e:\n",
    "    print(\"Error: Could not get cursor to the Dtabase\")\n",
    "    print(e)\n",
    "        \n",
    "conn.set_session(autocommit=True)"
   ]
  },
  {
   "cell_type": "markdown",
   "id": "a37bc216",
   "metadata": {},
   "source": [
    "# Create Table for students which includes below columns\n",
    "\n",
    "studnet_id</br>\n",
    "name</br>\n",
    "age</br>\n",
    "gender</br>\n",
    "subject</br>\n",
    "marks"
   ]
  },
  {
   "cell_type": "code",
   "execution_count": 32,
   "id": "99e9426c",
   "metadata": {},
   "outputs": [],
   "source": [
    "try:\n",
    "    cur.execute(\"CREATE TABLE IF NOT EXISTS students (student_id int, name varchar,\\\n",
    "    age int, gender varchar, subject varchar, marks int);\") # sql syntax\n",
    "except psycopg2.Error as e:\n",
    "    print(\"Error: Issue creating table\")\n",
    "    print(e)"
   ]
  },
  {
   "cell_type": "markdown",
   "id": "863134fa",
   "metadata": {},
   "source": [
    "To check if database is created in PostgreSQL, open SQL Shell(psql) and type \"\\c myfirstdb\" and then type \"\\dt\"(display table)</br>\n",
    "-> postgres=# \\c myfirstdb</br>\n",
    "접속정보: 데이터베이스=\"myfirstdb\", 사용자=\"postgres\".</br>\n",
    "myfirstdb=# \\dt</br>\n",
    "        릴레이션(relation) 목록</br>\n",
    " 스키마 |   이름   |  종류  |  소유주</br>\n",
    "--------+----------+--------+----------</br>\n",
    " public | students | 테이블 | postgres</br>\n",
    "(1개 행)"
   ]
  },
  {
   "cell_type": "markdown",
   "id": "aeb7eba3",
   "metadata": {},
   "source": [
    "# Insert the following two rows in the table\n",
    "\n",
    "First Row: 1, \"Raj\", 23, \"Male\", \"Python\", 85</br>\n",
    "Second Row: 2, \"Priya\", 22, \"Female\", \"Python\", 86"
   ]
  },
  {
   "cell_type": "code",
   "execution_count": 33,
   "id": "4c6d4d41",
   "metadata": {},
   "outputs": [],
   "source": [
    "try:\n",
    "    cur.execute(\"INSERT INTO students (student_id, name, age, gender, subject, marks) \\\n",
    "    VALUES (%s, %s, %s, %s, %s, %s)\", \\\n",
    "               (1, \"Raj\", 23, \"Male\", \"Python\", 85)) # sql syntax\n",
    "except psycopg2.Error as e:\n",
    "    print(\"Error: Inserting Rows\")\n",
    "    print(e)\n",
    "    \n",
    "try:\n",
    "    cur.execute(\"INSERT INTO students (student_id, name, age, gender, subject, marks) \\\n",
    "    VALUES (%s, %s, %s, %s, %s, %s)\", \\\n",
    "               (2, \"Priya\", 22, \"Female\", \"Python\", 86)) # sql syntax\n",
    "except psycopg2.Error as e:\n",
    "    print(\"Error: Inserting Rows\")\n",
    "    print(e) "
   ]
  },
  {
   "cell_type": "markdown",
   "id": "d0d613c3",
   "metadata": {},
   "source": [
    "# Validate your data was inserted into the table"
   ]
  },
  {
   "cell_type": "code",
   "execution_count": 34,
   "id": "9b0303c7",
   "metadata": {},
   "outputs": [
    {
     "name": "stdout",
     "output_type": "stream",
     "text": [
      "(1, 'Raj', 23, 'Male', 'Python', 85)\n",
      "(2, 'Priya', 22, 'Female', 'Python', 86)\n"
     ]
    }
   ],
   "source": [
    "try:\n",
    "    cur.execute(\"SELECT * FROM students;\") # sql syntax\n",
    "except psycopg2.Error as e:\n",
    "    print(\"Error: select *\")\n",
    "    print(e)\n",
    "\n",
    "row = cur.fetchone() # particulart row from the table\n",
    "while row:\n",
    "    print(row)\n",
    "    row = cur.fetchone()"
   ]
  },
  {
   "cell_type": "markdown",
   "id": "6c1f892f",
   "metadata": {},
   "source": [
    "SQL Shell(psql)</br>\n",
    "-> myfirstdb=# select * from students;</br>\n",
    " student_id | name  | age | gender | subject | marks</br>\n",
    "------------+-------+-----+--------+---------+-------</br>\n",
    "          1 | Raj   |  23 | Male   | Python  |    85</br>\n",
    "          2 | Priya |  22 | Female | Python  |    86</br>\n",
    "(2개 행)"
   ]
  },
  {
   "cell_type": "markdown",
   "id": "86cb6976",
   "metadata": {},
   "source": [
    "# And finally close your cursor and connection"
   ]
  },
  {
   "cell_type": "code",
   "execution_count": 35,
   "id": "17a27ffc",
   "metadata": {},
   "outputs": [],
   "source": [
    "cur.close()\n",
    "conn.close()"
   ]
  },
  {
   "cell_type": "code",
   "execution_count": null,
   "id": "f877c759",
   "metadata": {},
   "outputs": [],
   "source": []
  }
 ],
 "metadata": {
  "kernelspec": {
   "display_name": "Python 3 (ipykernel)",
   "language": "python",
   "name": "python3"
  },
  "language_info": {
   "codemirror_mode": {
    "name": "ipython",
    "version": 3
   },
   "file_extension": ".py",
   "mimetype": "text/x-python",
   "name": "python",
   "nbconvert_exporter": "python",
   "pygments_lexer": "ipython3",
   "version": "3.9.12"
  }
 },
 "nbformat": 4,
 "nbformat_minor": 5
}
